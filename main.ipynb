{
  "nbformat": 4,
  "nbformat_minor": 0,
  "metadata": {
    "colab": {
      "provenance": [],
      "collapsed_sections": [],
      "mount_file_id": "11nXLk4_ICJKdnXK9RvouXuOstcfSpHG-",
      "authorship_tag": "ABX9TyMgVODemXYUdLPCb7Aoa1G0",
      "include_colab_link": true
    },
    "kernelspec": {
      "name": "python3",
      "display_name": "Python 3"
    },
    "language_info": {
      "name": "python"
    }
  },
  "cells": [
    {
      "cell_type": "markdown",
      "metadata": {
        "id": "view-in-github",
        "colab_type": "text"
      },
      "source": [
        "<a href=\"https://colab.research.google.com/github/ricaiu/PhD/blob/main/main.ipynb\" target=\"_parent\"><img src=\"https://colab.research.google.com/assets/colab-badge.svg\" alt=\"Open In Colab\"/></a>"
      ]
    },
    {
      "cell_type": "markdown",
      "source": [
        "# Dynamical Levy Lattice\n",
        "---\n",
        "1) Choose a random spin $S_i$  \n",
        "2) Draw $q$ neighbours $S_{r_j}$, each at distance $r_j$ from $S_i$, using as probability distribution $P(r)\\sim r^{-(d+\\sigma)}$  \n",
        "3) Calculate the energy difference $\\Delta E = 2\\cdot J \\cdot S_i \\sum_{j=1}^q  S_{r_j}$  \n",
        "4) Flip $S_i$ following the wanted prescription (Glauber or Metropolis)  \n",
        "\n",
        "--- \n",
        "\n",
        "\n",
        "\n"
      ],
      "metadata": {
        "id": "drpkcPLtZvs0"
      }
    },
    {
      "cell_type": "markdown",
      "source": [
        "Import parameters and functions"
      ],
      "metadata": {
        "id": "hs8Y9zyaftws"
      }
    },
    {
      "cell_type": "code",
      "source": [
        "from parameters import *\n",
        "from functions import *"
      ],
      "metadata": {
        "id": "YqkVE_vwnst9"
      },
      "execution_count": null,
      "outputs": []
    },
    {
      "cell_type": "code",
      "source": [
        "import numpy as np\n",
        "import itertools\n",
        "import time\n",
        "import random\n",
        "import os"
      ],
      "metadata": {
        "id": "uN59e5EmqGbd"
      },
      "execution_count": 34,
      "outputs": []
    },
    {
      "cell_type": "code",
      "source": [
        "def define_limits_2D(L):\n",
        "  '''\n",
        "  Defines the upper and lower bound of the pareto distribution, dim = 2\n",
        "  '''\n",
        "  UPPER = L/np.sqrt(2)-1.000001/np.sqrt(2)\n",
        "  LOWER = 1.000001/np.sqrt(2)\n",
        "  return UPPER, LOWER \n",
        "\n",
        "def define_limits_1D(L):\n",
        "  '''\n",
        "  Defines the upper and lower bound of the pareto distribution, dim = 1\n",
        "  '''\n",
        "  UPPER = int(L/2)+0.9999999\n",
        "  LOWER = 1\n",
        "  return UPPER, LOWER \n",
        "def generalized_uniform(unif,upper,lower):\n",
        "  '''\n",
        "  return a variable uniform distributed in [lower,upper]\n",
        "  '''\n",
        "  return unif*(upper-lower)+lower\n",
        "def generalized_pareto(unif,upper,lower,alpha):\n",
        "  '''\n",
        "  return a variable distributed following r^-alpha in [lower,upper]\n",
        "  '''\n",
        "  return (-(unif*upper**(alpha-1)-unif*lower**(alpha-1)-upper**(alpha-1))/((upper*lower)**(alpha-1)))**(-1/(alpha-1))\n",
        "\n",
        "\n",
        "def is_in(coordinate,L):\n",
        "  '''\n",
        "  Boolean for coordinate in [0,L-1]\n",
        "  '''\n",
        "  if coordinate <= L-1 and coordinate >=0:\n",
        "    return True\n",
        "  \n",
        "  return False\n",
        "\n",
        "\n",
        "\n",
        "def sampling_starting_spin_linear(L):\n",
        "  '''\n",
        "  Sample the starting spin, dim = 1\n",
        "  '''\n",
        "  return int(L*random.random())%L\n",
        "\n",
        "def sampling_starting_spin_quadratic(L):\n",
        "  '''\n",
        "  Sample the starting spin, dim = 2\n",
        "  '''\n",
        "  return int(L*random.random())%L,int(L*random.random())%L\n",
        "\n",
        "def sampling_q_neighbours_linear_bounded(q,neighs,UPPER,LOWER,alpha):\n",
        "  '''\n",
        "  Sample q neighbour using the Bounded Pareto with parameter alpha in dim = 1\n",
        "  '''\n",
        "  for k in range(q):\n",
        "    radius = generalized_pareto(random.random(),UPPER,LOWER,alpha)\n",
        "    neighs[k] =int(radius*(2*round(random.random())-1)) \n",
        "\n",
        "def sampling_q_neighbours_quadratic_bounded(q,neighs,UPPER,LOWER,alpha):\n",
        "  '''\n",
        "  Sample q neighbour using the Bounded Pareto with parameter alpha in dim = 2\n",
        "  '''\n",
        "  for k in range(q):\n",
        "    radius = generalized_pareto(random.random(),UPPER,LOWER,alpha)\n",
        "    theta = generalized_uniform(random.random(),2*np.pi,0)\n",
        "    neighs[k,0] = radius*np.cos(theta)\n",
        "    neighs[k,1] = radius*np.sin(theta)\n",
        "\n",
        "def sampling_q_neighbours_quadratic_infinite(q,neighs,LOWER,alpha):\n",
        "  '''\n",
        "  Sample q neighbour using the Bounded Pareto with parameter alpha, UPPER = inf\n",
        "  in dim = 2\n",
        "  '''\n",
        "  for k in range(q):\n",
        "    radius = ((1-random.random())**(-1/(alpha-1)))*LOWER \n",
        "    theta = generalized_uniform(random.random(),2*np.pi,0)\n",
        "    neighs[k,0] = radius*np.cos(theta)\n",
        "    neighs[k,1] = radius*np.sin(theta)\n",
        "def sampling_q_neighbours_linear_infinite(q,neighs,LOWER,alpha):\n",
        "  '''\n",
        "  Sample q neighbour using the Bounded Pareto with parameter alpha, UPPER = inf\n",
        "  in dim = 1\n",
        "  '''\n",
        "  for k in range(q):\n",
        "    radius = ((1-random.random())**(-1/(alpha-1)))*LOWER \n",
        "    neighs[k] =int(radius*(2*round(random.random())-1))\n",
        "\n",
        "def interaction_energy_2D_PBC(q,L,lattice,neighs,center_x,center_y):\n",
        "  '''\n",
        "  Compute the interaction energy dim = 2 with PBC\n",
        "  '''\n",
        "  neighs_sum = 0\n",
        "  for i in range(q):\n",
        "    neighs_sum+= lattice[(center_x+int(neighs[i,0]))%L,(center_y+int(neighs[i,1]))%L]\n",
        "  return lattice[center_x,center_y]*neighs_sum\n",
        "\n",
        "def interaction_energy_1D_PBC(q,L,lattice,neighs,center):\n",
        "  '''\n",
        "  Compute the interaction energy dim = 1 with PBC\n",
        "  '''\n",
        "  neighs_sum = 0\n",
        "  for i in range(q):\n",
        "    neighs_sum+= lattice[(center+int(neighs[i]))%L]\n",
        "  return lattice[center]*neighs_sum\n",
        "\n",
        "def interaction_energy_2D_positiveBC(q,L,lattice,neighs,center_x,center_y):\n",
        "  '''\n",
        "  Compute the interaction energy with Fixed Boundary Condition, where\n",
        "  the system is sorrounded by infinite positive spin background, dim = 2\n",
        "  '''\n",
        "  neighs_sum = 0\n",
        "  for i in range(q):\n",
        "    if not is_in(center_x+int(neighs[i,0]),L)  or not is_in(center_y+int(neighs[i,1]),L):\n",
        "      neighs_sum += 1\n",
        "    else: \n",
        "      neighs_sum += lattice[center_x+int(neighs[i,0]),center_y+int(neighs[i,1])]\n",
        "  return lattice[center_x,center_y]*neighs_sum \n",
        "\n",
        "def interaction_energy_1D_positiveBC(q,L,lattice,neighs,center):\n",
        "  '''\n",
        "  Compute the interaction energy with Fixed Boundary Condition, where\n",
        "  the system is sorrounded by infinite positive spin background, dim = 1\n",
        "  '''\n",
        "  neighs_sum = 0\n",
        "  for i in range(q):\n",
        "    if not is_in(center+int(neighs[i]),L):\n",
        "      neighs_sum += 1\n",
        "    else: \n",
        "      neighs_sum += lattice[center+int(neighs[i])]\n",
        "  return lattice[center]*neighs_sum \n",
        "\n",
        "def metropolis_filter_2D(lattice,energy,neighs_energy,filter_energy,center_x,center_y):\n",
        "  '''\n",
        "  Perform the spin flip using metropolis prescription, dim = 2\n",
        "  '''\n",
        "  if energy < 0:\n",
        "    lattice[center_x,center_y]*=-1\n",
        "  else:\n",
        "    probability = random.random()\n",
        "    filter = filter_energy[neighs_energy == energy]\n",
        "    if filter > probability:\n",
        "      lattice[center_x,center_y]*=-1\n",
        "\n",
        "def metropolis_filter_1D(lattice,energy,neighs_energy,filter_energy,center):\n",
        "  '''\n",
        "  Perform the spin flip using metropolis prescription, dim = 1\n",
        "  '''\n",
        "  if energy < 0:\n",
        "    lattice[center]*=-1\n",
        "  else:\n",
        "    probability = random.random()\n",
        "    filter = filter_energy[neighs_energy == energy]\n",
        "    if filter > probability:\n",
        "      lattice[center]*=-1\n",
        "\n",
        "def glauber_filter_2D(lattice,energy,neighs_energy,filter_energy,center_x,center_y):\n",
        "  '''\n",
        "  Perform the spin flip using glauber prescription, dim = 2\n",
        "  '''\n",
        "  probability = random.random()\n",
        "  filter = filter_energy[neighs_energy == energy]\n",
        "  if filter < probability:\n",
        "    lattice[center_x,center_y]*=-1\n",
        "\n",
        "def glauber_filter_1D(lattice,energy,neighs_energy,filter_energy,center):\n",
        "  '''\n",
        "  Perform the spin flip using glauber prescription, dim = 2\n",
        "  '''\n",
        "  probability = random.random()\n",
        "  filter = filter_energy[neighs_energy == energy]\n",
        "  if filter < probability:\n",
        "    lattice[center]*=-1\n",
        "\n",
        "\n",
        "\n",
        "def q_metropolis_2D(lattice,q,alpha,neighs,filter_energy,neighs_energy):\n",
        "  '''\n",
        "  Perform a single spin flip of the Dynamical Levy Lattice Algorihtm, using\n",
        "  Metropolis prescription and PBC, dim = 2\n",
        "  ''' \n",
        "  L = len(lattice)\n",
        "  #define limits\n",
        "  UPPER, LOWER = define_limits_2D(L)\n",
        "  #sampling the starting site\n",
        "  center_x, center_y = sampling_starting_spin_quadratic(L)\n",
        "  #sampling q neighbours\n",
        "  sampling_q_neighbours_quadratic_bounded(q,neighs,UPPER,LOWER,alpha)\n",
        "  #compute interaction energy\n",
        "  energy = interaction_energy_2D_PBC(q,L,lattice,neighs,center_x,center_y)\n",
        "  #perform the spin flip\n",
        "  metropolis_filter_2D(lattice,energy,neighs_energy,filter_energy,center_x,center_y)\n",
        "\n",
        "def q_metropolis_1D(lattice,q,alpha,neighs,filter_energy,neighs_energy):\n",
        "  '''\n",
        "  Perform a single spin flip of the Dynamical Levy Lattice Algorihtm, using\n",
        "  Metropolis prescription and PBC, dim = 1\n",
        "  ''' \n",
        "  L = len(lattice)\n",
        "  #define limits\n",
        "  UPPER, LOWER = define_limits_1D(L)\n",
        "  #sampling the starting site\n",
        "  center= sampling_starting_spin_linear(L)\n",
        "  #sampling q neighbours\n",
        "  sampling_q_neighbours_linear_bounded(q,neighs,UPPER,LOWER,alpha)\n",
        "  #compute interaction energy\n",
        "  energy = interaction_energy_1D_PBC(q,L,lattice,neighs,center)\n",
        "  #perform the spin flip\n",
        "  metropolis_filter_1D(lattice,energy,neighs_energy,filter_energy,center)\n",
        "\n",
        "def q_metropolis_infinite_2D(lattice,q,alpha,neighs,filter_energy,neighs_energy):\n",
        "  '''\n",
        "  Perform a single spin flip of the Dynamical Levy Lattice Algorihtm, using\n",
        "  Metropolis prescription and PBC, with no Upper limit, dim = 2\n",
        "  ''' \n",
        "  L = len(lattice)\n",
        "  #define limits\n",
        "  UPPER, LOWER = define_limits_2D(L)\n",
        "  #sampling the starting site\n",
        "  center_x, center_y = sampling_starting_spin_quadratic(L)\n",
        "  #sampling q neighbours\n",
        "  sampling_q_neighbours_quadratic_infinite(q,neighs,LOWER,alpha)\n",
        "  #compute interaction energy\n",
        "  energy = interaction_energy_2D_PBC(q,L,lattice,neighs,center_x,center_y)\n",
        "  #perform the spin flip\n",
        "  metropolis_filter_2D(lattice,energy,neighs_energy,filter_energy,center_x,center_y)\n",
        "\n",
        "def q_metropolis_infinite_1D(lattice,q,alpha,neighs,filter_energy,neighs_energy):\n",
        "  '''\n",
        "  Perform a single spin flip of the Dynamical Levy Lattice Algorihtm, using\n",
        "  Metropolis prescription and PBC, with no Upper limit, dim = 1\n",
        "  ''' \n",
        "  L = len(lattice)\n",
        "  #define limits\n",
        "  UPPER, LOWER = define_limits_1D(L)\n",
        "  #sampling the starting site\n",
        "  center= sampling_starting_spin_linear(L)\n",
        "  #sampling q neighbours\n",
        "  sampling_q_neighbours_linear_infinite(q,neighs,LOWER,alpha)\n",
        "  #compute interaction energy\n",
        "  energy = interaction_energy_1D_PBC(q,L,lattice,neighs,center)\n",
        "  #perform the spin flip\n",
        "  metropolis_filter_1D(lattice,energy,neighs_energy,filter_energy,center)\n",
        "\n",
        "def q_metropolis_positiveBC_2D(lattice,q,alpha,neighs,filter_energy,neighs_energy):\n",
        "  '''\n",
        "  Perform a single spin flip of the Dynamical Levy Lattice Algorihtm, using\n",
        "  Metropolis prescription and Fixed Boundary Condition, where the system is \n",
        "  sorrounded by infinite positive spin background, dim = 2\n",
        "  ''' \n",
        "  L = len(lattice)\n",
        "  #define limits\n",
        "  UPPER, LOWER = define_limits_2D(L)\n",
        "  #sampling the starting site\n",
        "  center_x, center_y = sampling_starting_spin_quadratic(L)\n",
        "  #sampling q neighbours\n",
        "  sampling_q_neighbours_quadratic_infinite(q,neighs,LOWER,alpha)\n",
        "  #compute interaction energy\n",
        "  energy = interaction_energy_2D_positiveBC(q,L,lattice,neighs,center_x,center_y)\n",
        "  #perform the spin flip\n",
        "  metropolis_filter_2D(lattice,energy,neighs_energy,filter_energy,center_x,center_y)\n",
        "\n",
        "def q_metropolis_positiveBC_1D(lattice,q,alpha,neighs,filter_energy,neighs_energy):\n",
        "  '''\n",
        "  Perform a single spin flip of the Dynamical Levy Lattice Algorihtm, using\n",
        "  Metropolis prescription and Fixed Boundary Condition, where the system is \n",
        "  sorrounded by infinite positive spin background, dim = 1\n",
        "  ''' \n",
        "  L = len(lattice)\n",
        "  #define limits\n",
        "  UPPER, LOWER = define_limits_1D(L)\n",
        "  #sampling the starting site\n",
        "  center= sampling_starting_spin_linear(L)\n",
        "  #sampling q neighbours\n",
        "  sampling_q_neighbours_linear_infinite(q,neighs,LOWER,alpha)\n",
        "  #compute interaction energy\n",
        "  energy = interaction_energy_1D_positiveBC(q,L,lattice,neighs,center)\n",
        "  #perform the spin flip\n",
        "  metropolis_filter_1D(lattice,energy,neighs_energy,filter_energy,center)\n",
        "\n",
        "def q_glauber_2D(lattice,q,alpha,neighs,filter_energy,neighs_energy):\n",
        "  '''\n",
        "  Perform a single spin flip of the Dynamical Levy Lattice Algorihtm, using\n",
        "  Glauber prescription and PBC, dim = 2\n",
        "  ''' \n",
        "  L = len(lattice)\n",
        "  #define limits\n",
        "  UPPER, LOWER = define_limits_2D(L)\n",
        "  #sampling the starting site\n",
        "  center_x, center_y = sampling_starting_spin_quadratic(L)\n",
        "  #sampling q neighbours\n",
        "  sampling_q_neighbours_quadratic_bounded(q,neighs,UPPER,LOWER,alpha)\n",
        "  #compute interaction energy\n",
        "  energy = interaction_energy_2D_PBC(q,L,lattice,neighs,center_x,center_y)\n",
        "  #perform the spin flip\n",
        "  glauber_filter_2D(lattice,energy,neighs_energy,filter_energy,center_x,center_y)\n",
        "\n",
        "def q_glauber_1D(lattice,q,alpha,neighs,filter_energy,neighs_energy):\n",
        "  '''\n",
        "  Perform a single spin flip of the Dynamical Levy Lattice Algorihtm, using\n",
        "  Glauber prescription and PBC, dim = 1\n",
        "  ''' \n",
        "  L = len(lattice)\n",
        "  #define limits\n",
        "  UPPER, LOWER = define_limits_1D(L)\n",
        "  #sampling the starting site\n",
        "  center= sampling_starting_spin_linear(L)\n",
        "  #sampling q neighbours\n",
        "  sampling_q_neighbours_linear_bounded(q,neighs,UPPER,LOWER,alpha)\n",
        "  #compute interaction energy\n",
        "  energy = interaction_energy_1D_PBC(q,L,lattice,neighs,center)\n",
        "  #perform the spin flip\n",
        "  glauber_filter_1D(lattice,energy,neighs_energy,filter_energy,center)\n",
        "\n",
        "def q_glauber_infinite_2D(lattice,q,alpha,neighs,filter_energy,neighs_energy):\n",
        "  '''\n",
        "  Perform a single spin flip of the Dynamical Levy Lattice Algorihtm, using\n",
        "  Glauber prescription and PBC, with no Upper limit, dim = 2\n",
        "  ''' \n",
        "  L = len(lattice)\n",
        "  #define limits\n",
        "  UPPER, LOWER = define_limits_2D(L)\n",
        "  #sampling the starting site\n",
        "  center_x, center_y = sampling_starting_spin_quadratic(L)\n",
        "  #sampling q neighbours\n",
        "  sampling_q_neighbours_quadratic_infinite(q,neighs,LOWER,alpha)\n",
        "  #compute interaction energy\n",
        "  energy = interaction_energy_2D_PBC(q,L,lattice,neighs,center_x,center_y)\n",
        "  #perform the spin flip\n",
        "  glauber_filter_2D(lattice,energy,neighs_energy,filter_energy,center_x,center_y)\n",
        "\n",
        "def q_glauber_infinite_1D(lattice,q,alpha,neighs,filter_energy,neighs_energy):\n",
        "  '''\n",
        "  Perform a single spin flip of the Dynamical Levy Lattice Algorihtm, using\n",
        "  Glauber prescription and PBC, with no Upper limit, dim = 1\n",
        "  ''' \n",
        "  L = len(lattice)\n",
        "  #define limits\n",
        "  UPPER, LOWER = define_limits_1D(L)\n",
        "  #sampling the starting site\n",
        "  center= sampling_starting_spin_linear(L)\n",
        "  #sampling q neighbours\n",
        "  sampling_q_neighbours_linear_infinite(q,neighs,LOWER,alpha)\n",
        "  #compute interaction energy\n",
        "  energy = interaction_energy_1D_PBC(q,L,lattice,neighs,center)\n",
        "  #perform the spin flip\n",
        "  glauber_filter_1D(lattice,energy,neighs_energy,filter_energy,center)\n",
        "\n",
        "def q_glauber_positiveBC_2D(lattice,q,alpha,neighs,filter_energy,neighs_energy):\n",
        "  '''\n",
        "  Perform a single spin flip of the Dynamical Levy Lattice Algorihtm, using\n",
        "  Glauber prescription and Fixed Boundary Condition, where the system is \n",
        "  sorrounded by infinite positive spin background, dim = 2\n",
        "  ''' \n",
        "  L = len(lattice)\n",
        "  #define limits\n",
        "  UPPER, LOWER = define_limits_2D(L)\n",
        "  #sampling the starting site\n",
        "  center_x, center_y = sampling_starting_spin_quadratic(L)\n",
        "  #sampling q neighbours\n",
        "  sampling_q_neighbours_quadratic_infinite(q,neighs,LOWER,alpha)\n",
        "  #compute interaction energy\n",
        "  energy = interaction_energy_2D_positiveBC(q,L,lattice,neighs,center_x,center_y)\n",
        "  #perform the spin flip\n",
        "  glauber_filter_2D(lattice,energy,neighs_energy,filter_energy,center_x,center_y)\n",
        "\n",
        "def q_glauber_positiveBC_1D(lattice,q,alpha,neighs,filter_energy,neighs_energy):\n",
        "  '''\n",
        "  Perform a single spin flip of the Dynamical Levy Lattice Algorihtm, using\n",
        "  Glauber prescription and Fixed Boundary Condition, where the system is \n",
        "  sorrounded by infinite positive spin background, dim = 1\n",
        "  ''' \n",
        "  L = len(lattice)\n",
        "  #define limits\n",
        "  UPPER, LOWER = define_limits_1D(L)\n",
        "  #sampling the starting site\n",
        "  center= sampling_starting_spin_linear(L)\n",
        "  #sampling q neighbours\n",
        "  sampling_q_neighbours_linear_infinite(q,neighs,LOWER,alpha)\n",
        "  #compute interaction energy\n",
        "  energy = interaction_energy_1D_positiveBC(q,L,lattice,neighs,center)\n",
        "  #perform the spin flip\n",
        "  glauber_filter_1D(lattice,energy,neighs_energy,filter_energy,center)\n",
        "\n",
        "\n",
        "\n"
      ],
      "metadata": {
        "id": "6R__laMMp7rr"
      },
      "execution_count": 66,
      "outputs": []
    },
    {
      "cell_type": "code",
      "source": [
        "def create_energy(q,spin,Prescription):\n",
        "  '''\n",
        "  Create possible neighbours' energies array\n",
        "  '''\n",
        "  conf = (itertools.combinations_with_replacement(spin,q))\n",
        "  energy = []\n",
        "  for i in list(conf):\n",
        "    energy.append(sum(i))\n",
        "\n",
        "  if Prescription == 'metropolis':\n",
        "    return energy[int(len(energy)/2):]\n",
        "  else:\n",
        "    return energy\n",
        "\n"
      ],
      "metadata": {
        "id": "7455jnunDmjb"
      },
      "execution_count": 55,
      "outputs": []
    },
    {
      "cell_type": "code",
      "source": [
        "def make_Temperature_file(Ls,path,Ts,steps):\n",
        "  '''\n",
        "  Create a file \"path/Ts.npy\" which stores the temperatures\n",
        "  and a file \"path/Ts.txt\" which could be useful for future simulations.\n",
        "  '''\n",
        "\n",
        "\n",
        "  temper = np.empty((len(Ls),len(Ts[Ls[0]])))\n",
        "  L_idx = 0\n",
        "  for L1 in Ls:\n",
        "      temper[L_idx] = Ts[L1]\n",
        "      L_idx+=1\n",
        "  np.save(path+'Ts.npy',temper)\n",
        "  with open(path+'Ts.txt', 'w') as f:\n",
        "      L_idx = 0\n",
        "      print('number of Temperature, num_T = ',len(Ts[Ls[0]]),file = f)\n",
        "      print('Ts = {',file = f)\n",
        "      for L1 in Ls:\n",
        "          print(L1,': np.linspace(',temper[L_idx][0],', ',temper[L_idx][-1],',num_T),',file = f)\n",
        "          L_idx+=1\n",
        "      print('}',file = f)"
      ],
      "metadata": {
        "id": "JCp7rT0scNJ_"
      },
      "execution_count": 56,
      "outputs": []
    },
    {
      "cell_type": "code",
      "source": [
        "#For each size choose the temperature range and save it in this dictionary:\n",
        "Ts  = {8 : np.linspace(1,2,10)}\n",
        "\n",
        "\n",
        "Parameters = {\n",
        "    'Prescription' : 'metropolis', #'metropolis' 'glauber'\n",
        "    'Boundary Condition' : 'PBC', #'PBC', 'infinite_PBC', 'positiveBC\n",
        "    'Start' : 'hot',\n",
        "    'Dimension' : 1,\n",
        "    'Sigma' : 1,\n",
        "    'Neighbours' : 4,\n",
        "    'Sizes' : np.array([8,]),\n",
        "    'Temperatures' : Ts ,\n",
        "    'Autocorrelation' : 100,\n",
        "    'Steps' : 100,\n",
        "    'Path' : '',\n",
        "    'File Name' : '',\n",
        "    'Output file name' :  'test'\n",
        "\n",
        "}"
      ],
      "metadata": {
        "id": "jB3cNakjpd1D"
      },
      "execution_count": 57,
      "outputs": []
    },
    {
      "cell_type": "markdown",
      "source": [
        "Print in an output file the chosen parameters"
      ],
      "metadata": {
        "id": "nfVbZ8x9wg_s"
      }
    },
    {
      "cell_type": "code",
      "source": [
        "with open(Parameters['Output file name'] +'.txt', 'a') as f:\n",
        "  print('START SIMULATION', file = f)\n",
        "  print('PARAMETERS:', file = f)\n",
        "  for keys in Parameters:\n",
        "    print(keys, ' : ', Parameters[keys], file = f)"
      ],
      "metadata": {
        "id": "ow2IOjWNpHLx"
      },
      "execution_count": 40,
      "outputs": []
    },
    {
      "cell_type": "markdown",
      "source": [
        "Make a \"Ts.npy\" file where are stored temperatures for thermodynamics analysis and a file \"Ts.txt\" which could be useful for future simulations"
      ],
      "metadata": {
        "id": "Fdb23dO5bqSP"
      }
    },
    {
      "cell_type": "code",
      "source": [
        "make_Temperature_file(Parameters['Sizes'],Parameters['Path'],\n",
        "                      Parameters['Temperatures'], Parameters['Steps'])"
      ],
      "metadata": {
        "id": "0ZQBiPxbbn2V"
      },
      "execution_count": 41,
      "outputs": []
    },
    {
      "cell_type": "markdown",
      "source": [
        "Create an empty array where will be stored temporarily the $q$ neighbours, to speed up the single spin-flip"
      ],
      "metadata": {
        "id": "mgRAvH-5eHHA"
      }
    },
    {
      "cell_type": "code",
      "source": [
        "neighs = np.empty((Parameters['Neighbours'],Parameters['Dimension']),dtype = 'int16')"
      ],
      "metadata": {
        "id": "55FsciRteGvs"
      },
      "execution_count": 58,
      "outputs": []
    },
    {
      "cell_type": "markdown",
      "source": [
        "Create an array of possibile energy interaction, in order to speed up the calculation of spin-flip energy  \n",
        "For example if $q = 3$, then E = [-3,-1,1,3] for Glauber and E = [1,3] for Metropolis"
      ],
      "metadata": {
        "id": "h2pXu7DeV8W7"
      }
    },
    {
      "cell_type": "code",
      "source": [
        "energy = np.array(create_energy(Parameters['Neighbours'],[-1,1],Parameters['Prescription']))\n",
        "print(energy)"
      ],
      "metadata": {
        "colab": {
          "base_uri": "https://localhost:8080/"
        },
        "id": "1kwjSbvzVeDC",
        "outputId": "cd045f2b-2e4f-42f4-80a2-220f3611be08"
      },
      "execution_count": 59,
      "outputs": [
        {
          "output_type": "stream",
          "name": "stdout",
          "text": [
            "[0 2 4]\n"
          ]
        }
      ]
    },
    {
      "cell_type": "markdown",
      "source": [
        "Choosing the right requested dynamics"
      ],
      "metadata": {
        "id": "2TCvhLe3qBN0"
      }
    },
    {
      "cell_type": "code",
      "source": [
        "if Parameters['Prescription'] == 'metropolis':\n",
        "  if Parameters['Boundary Condition'] == 'PBC':\n",
        "    if Parameters['Dimension'] == 1:\n",
        "      dynamics = q_metropolis_1D\n",
        "    elif Parameters['Dimension'] == 2:\n",
        "      dynamics = q_metropolis_2D\n",
        "  elif Parameters['Boundary Condition'] == 'infinite PBC':\n",
        "    if Parameters['Dimension'] == 1:\n",
        "      dynamics = q_metropolis_infinite_1D\n",
        "    elif Parameters['Dimension'] == 2:\n",
        "      dynamics = q_metropolis_infinite_2D\n",
        "  elif Parameters['Boundary Condition'] == 'positiveBC':\n",
        "    if Parameters['Dimension'] == 1:\n",
        "      dynamics = q_metropolis_positiveBC_1D\n",
        "    elif Parameters['Dimension'] == 2:\n",
        "      dynamics = q_metropolis_positiveBC_2D\n",
        "  else:\n",
        "    print('Erros: not existing boundary condition!')\n",
        "elif Parameters['Prescription'] == 'glauber':\n",
        "  if Parameters['Boundary Condition'] == 'PBC':\n",
        "    if Parameters['Dimension'] == 1:\n",
        "      dynamics = q_glauber_1D\n",
        "    elif Parameters['Dimension'] == 2:\n",
        "      dynamics = q_glauber_2D\n",
        "  elif Parameters['Boundary Condition'] == 'infinite PBC':\n",
        "    if Parameters['Dimension'] == 1:\n",
        "      dynamics = q_glauber_infinite_1D\n",
        "    elif Parameters['Dimension'] == 2:\n",
        "      dynamics = q_glauber_infinite_2D\n",
        "  elif Parameters['Boundary Condition'] == 'positiveBC':\n",
        "    if Parameters['Dimension'] == 1:\n",
        "      dynamics = q_glauber_positiveBC_1D\n",
        "    elif Parameters['Dimension'] == 2:\n",
        "      dynamics = q_glauber_positiveBC_2D\n",
        "  else:\n",
        "    print('Erros: not existing boundary condition!')\n",
        "\n",
        "else:\n",
        "  print('Error: not existing dynamics!')\n",
        "print('Chosen dynamics: ', dynamics)"
      ],
      "metadata": {
        "colab": {
          "base_uri": "https://localhost:8080/"
        },
        "id": "IW8H5uXZqA8E",
        "outputId": "c938c130-b743-4836-a277-7ebe3c37b1cb"
      },
      "execution_count": 60,
      "outputs": [
        {
          "output_type": "stream",
          "name": "stdout",
          "text": [
            "Chosen dynamics:  <function q_metropolis_1D at 0x7f4b2185a680>\n"
          ]
        }
      ]
    },
    {
      "cell_type": "code",
      "source": [
        "\n",
        "\n",
        "\n",
        "for L in Parameters['Sizes']:\n",
        "\n",
        "  #Make a directory named after the size \"L_{size}\" where store the observable\n",
        "  try:\n",
        "      os.mkdir(Parameters['Path']+'L_'+str(L))\n",
        "  except OSError as error:\n",
        "      pass\n",
        "  saving_directory = Parameters['Path']+'L_'+str(L)+'/'\n",
        "\n",
        "  #Take the temperatures for readability\n",
        "  T = Parameters['Temperatures'][L]\n",
        "\n",
        "  #Set termalization steps\n",
        "  termalization = Parameters['Autocorrelation']*L**Parameters['Dimension']\n",
        "\n",
        "  #Create the lattice\n",
        "  if Parameters['Dimension'] == 1:\n",
        "    shape = (L)\n",
        "  elif Parameters['Dimension'] == 2:\n",
        "    shape = (L,L)\n",
        "  if Parameters['Start'] == 'hot':\n",
        "    lattice = 2*np.round(np.random.random(shape))-1\n",
        "  elif Parameters['Start'] == 'cold':\n",
        "    lattice = np.ones(shape,dtype = 'int16')\n",
        "\n",
        "  #Make lattice of integers for memory resource\n",
        "  lattice = lattice.astype( 'int16')\n",
        "  \n",
        "  #Set observables (here the magnetizaion, i.e. the order parameter)\n",
        "\n",
        "  magnetization = np.empty((len(T),Parameters['Steps']))\n",
        "\n",
        "\n",
        "\n",
        "  #Temperature has to be inverted if 'hot' conditions are requested\n",
        "  if Parameters['Start'] == 'hot':\n",
        "    T = T[::-1]\n",
        "\n",
        "  #Set look-up table of perscription's filters for spin-flip energy\n",
        "\n",
        "  if Parameters['Prescription'] == 'metropolis':\n",
        "    filt = [np.exp(-2*(1/T[i])*energy) for i in range(len(T))]\n",
        "  elif Parameters['Prescription'] == 'glauber':\n",
        "    filt = [1/(1+ np.exp(2*(1/T[i])*energy))for i in range(len(T))]\n",
        "\n",
        "#Now start the dynamics for each Temperature\n",
        "\n",
        "  #Track the temperature index with tmp_index\n",
        "  tmp_index = 0\n",
        "  for t in T:\n",
        "    #save time to record the time consuming\n",
        "    now_time = time.time()\n",
        "\n",
        "    #Termalize the system\n",
        "    for i in range(termalization):\n",
        "      dynamics(lattice,Parameters['Neighbours'],\n",
        "                     Parameters['Dimension']+Parameters['Sigma'],\n",
        "                     neighs,filt[tmp_index],energy)\n",
        "      \n",
        "    for k in range(Parameters['Steps']):     \n",
        "      for i in range(L**Parameters['Dimension']):           \n",
        "        dynamics(lattice,Parameters['Neighbours'],\n",
        "                    Parameters['Dimension']+Parameters['Sigma'],\n",
        "                    neighs,filt[tmp_index],energy)     \n",
        "\n",
        "      magnetization[tmp_index,k]= lattice.sum()/L**Parameters['Dimension']\n",
        "\n",
        "      #Saving the magnetization during the simulation, in order to get results\n",
        "      #even if the simulation stops before it ends\n",
        "      if Parameters['Start'] == 'hot':\n",
        "        np.save(saving_directory+'/magnetization.npy',magnetization[-tmp_index-1:])\n",
        "      else:\n",
        "        np.save(saving_directory+'/magnetization.npy',magnetization[:tmp_index+1])\n",
        "    \n",
        "    #Print time consuming for Parameters['Steps'] MCS:\n",
        "    print('T= ',t,\"--- %s seconds ---\" % (time.time()-now_time))\n",
        "    with open(Parameters['Output file name']+'.txt', 'a') as f:\n",
        "      print('T= ',t,\"--- %s seconds ---\" % (time.time()-now_time),file = f ) \n",
        "    \n",
        "    tmp_index += 1\n",
        "\n",
        "  #Saving the total magnetization. Magnetization is stored from the lowest\n",
        "  #temperature to the highest, also if the temperature is lowered in the dynamics\n",
        "  if Parameters['Start'] == 'hot':\n",
        "    magnetization = magnetization[::-1]\n",
        "  np.save(saving_directory+'/magnetization.npy',magnetization)\n",
        "\n",
        "\n",
        "  \n"
      ],
      "metadata": {
        "id": "_IeoZP5LvaiW",
        "colab": {
          "base_uri": "https://localhost:8080/"
        },
        "outputId": "bf517243-4e55-4de3-dfad-9da2bfcc467b"
      },
      "execution_count": 61,
      "outputs": [
        {
          "output_type": "stream",
          "name": "stdout",
          "text": [
            "T=  2.0 --- 0.04976820945739746 seconds ---\n",
            "T=  1.8888888888888888 --- 0.04499340057373047 seconds ---\n",
            "T=  1.7777777777777777 --- 0.047265052795410156 seconds ---\n",
            "T=  1.6666666666666665 --- 0.04430651664733887 seconds ---\n",
            "T=  1.5555555555555556 --- 0.04494667053222656 seconds ---\n",
            "T=  1.4444444444444444 --- 0.04959845542907715 seconds ---\n",
            "T=  1.3333333333333333 --- 0.048127174377441406 seconds ---\n",
            "T=  1.2222222222222223 --- 0.04691886901855469 seconds ---\n",
            "T=  1.1111111111111112 --- 0.04528355598449707 seconds ---\n",
            "T=  1.0 --- 0.050209999084472656 seconds ---\n"
          ]
        }
      ]
    },
    {
      "cell_type": "code",
      "source": [],
      "metadata": {
        "id": "ivZHQR_0ya5S"
      },
      "execution_count": null,
      "outputs": []
    },
    {
      "cell_type": "code",
      "source": [],
      "metadata": {
        "id": "tRHrZpZOJcBV"
      },
      "execution_count": null,
      "outputs": []
    },
    {
      "cell_type": "code",
      "source": [],
      "metadata": {
        "colab": {
          "base_uri": "https://localhost:8080/"
        },
        "outputId": "cd045f2b-2e4f-42f4-80a2-220f3611be08",
        "id": "aXuZ_sw1JcBW"
      },
      "execution_count": null,
      "outputs": [
        {
          "output_type": "stream",
          "name": "stdout",
          "text": [
            "[0 2 4]\n"
          ]
        }
      ]
    },
    {
      "cell_type": "code",
      "source": [],
      "metadata": {
        "id": "CQHLetQ8JWc1"
      },
      "execution_count": null,
      "outputs": []
    }
  ]
}